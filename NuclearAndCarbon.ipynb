{
  "cells": [
    {
      "cell_type": "code",
      "execution_count": 1,
      "metadata": {
        "id": "Nh_14N_BQNnj"
      },
      "outputs": [],
      "source": [
        "import numpy as np\n",
        "import pandas as pd\n",
        "import matplotlib.pyplot as plt\n",
        "import seaborn as sns\n",
        "from google.colab import drive \n",
        "import scipy.stats as ss\n",
        "import imageio"
      ]
    },
    {
      "cell_type": "code",
      "execution_count": 2,
      "metadata": {
        "colab": {
          "base_uri": "https://localhost:8080/"
        },
        "id": "RzyJip-7eWgO",
        "outputId": "1227e046-c15e-4ab7-d337-9cfdaca1f39a"
      },
      "outputs": [
        {
          "output_type": "stream",
          "name": "stdout",
          "text": [
            "Mounted at /content/gdrive\n"
          ]
        }
      ],
      "source": [
        "drive.mount('/content/gdrive')"
      ]
    },
    {
      "cell_type": "code",
      "execution_count": 3,
      "metadata": {
        "id": "4If2ygLUez6C"
      },
      "outputs": [],
      "source": [
        "# This dataset has been acquired from https://www.kaggle.com/datasets/pralabhpoudel/world-energy-consumption\n",
        "Energy=pd.read_csv('gdrive/MyDrive/Colab Notebooks/World Energy Consumption.csv')"
      ]
    },
    {
      "cell_type": "code",
      "source": [
        "#List begins with columns that will clearly be needed\n",
        "nuclear_cols = [\"year\",\"country\",\"carbon_intensity_elec\"]\n",
        "# And then it will be appended with all columns related to nuclear\n",
        "for col in Energy.columns:\n",
        "  if \"nuclear\" in col:\n",
        "    nuclear_cols.append(col)"
      ],
      "metadata": {
        "id": "DQPP1PzemSyM"
      },
      "execution_count": 4,
      "outputs": []
    },
    {
      "cell_type": "code",
      "source": [
        "nuclear_cols.append(\"primary_energy_consumption\")\n",
        "#The analisys will comprise just the 21st century\n",
        "Nuclear = Energy.loc[Energy[\"year\"]>=2001,nuclear_cols].dropna(how = \"all\")"
      ],
      "metadata": {
        "id": "ClSVmXmWl7fW"
      },
      "execution_count": 5,
      "outputs": []
    },
    {
      "cell_type": "code",
      "source": [
        "# Only countries which produce some nuclear energy will be taken into account\n",
        "Nuclear = Nuclear.loc[Nuclear[\"nuclear_electricity\"]>0,:]"
      ],
      "metadata": {
        "id": "7AUs84Jpo2HS"
      },
      "execution_count": 6,
      "outputs": []
    },
    {
      "cell_type": "code",
      "source": [
        "plt.figure(figsize = ((8,8)))\n",
        "countries = Nuclear.country.value_counts().index\n",
        "lr = []\n",
        "images = []\n",
        "\"\"\"\n",
        "For every year a linear regression is performed:\n",
        "--> X: Share of nuclear energy production\n",
        "--> Y: Carbon Intensity \n",
        "\"\"\"\n",
        "for ye in range(2001,2020):\n",
        "  # Linear regression\n",
        "  plt.figure(figsize = ((8,8)))\n",
        "  # Select info for linear regression\n",
        "  forlr = Nuclear.loc[Nuclear[\"year\"] == ye, [\"country\",\"nuclear_share_elec\",\"carbon_intensity_elec\"]].set_index(\"country\")\n",
        "  forlr = forlr.loc[forlr[\"carbon_intensity_elec\"].notna()]\n",
        "\n",
        "  # Linear regression paramters and indicators are stored in a list.\n",
        "  lr.append(ss.linregress(x = forlr.nuclear_share_elec, y = forlr.carbon_intensity_elec))\n",
        "  \n",
        "  # Scatterplot of points the liner regressions have been performed with. The more consumption the country presents, the bigger its marker is.\n",
        "  g = sns.scatterplot(x = \"nuclear_share_elec\", y = \"carbon_intensity_elec\", data = Nuclear.loc[Nuclear[\"year\"] == ye,:],\n",
        "                  size = Nuclear.loc[Nuclear[\"year\"] == ye,\"primary_energy_consumption\"], \n",
        "                  sizes = (1e2, 1e5), palette = \"pastel\", legend = False)\n",
        "  \n",
        "  # Limits are fixed for all year for better observetion\n",
        "  g.set(xlim=(0, 85), ylim=(0, 700))\n",
        "\n",
        "  # Write names of countries next to their respective markers\n",
        "  for c in forlr.index:  \n",
        "    g.annotate(c, xy = (forlr.loc[c,\"nuclear_share_elec\"], forlr.loc[c,\"carbon_intensity_elec\"]))\n",
        "\n",
        "  # Plot linear regressions\n",
        "  sns.lineplot(x = forlr.nuclear_share_elec, y = lr[-1].intercept + lr[-1].slope*forlr.nuclear_share_elec, color = \"red\")\n",
        "  plt.xlabel(\"Nuclear Power Share for electricity production [%]\")\n",
        "  plt.ylabel(\"Carbon intensity of electricity production, [g(CO$_2$) / kWh]\")\n",
        "  \n",
        "  # Write current year in the bottom left corner\n",
        "  g.annotate(str(ye), xy = (2,20), fontsize = 24)\n",
        "\n",
        "  # Each figure is saved\n",
        "  plt.savefig(f'gdrive/MyDrive/Colab Notebooks/img/img_{ye}.png', \n",
        "                transparent = False)\n",
        "  plt.close()  "
      ],
      "metadata": {
        "colab": {
          "base_uri": "https://localhost:8080/",
          "height": 34
        },
        "id": "-tcdbbVIkw-X",
        "outputId": "f7422ac7-b348-4778-e0e2-a177e763bfbb"
      },
      "execution_count": 7,
      "outputs": [
        {
          "output_type": "display_data",
          "data": {
            "text/plain": [
              "<Figure size 576x576 with 0 Axes>"
            ]
          },
          "metadata": {}
        }
      ]
    },
    {
      "cell_type": "code",
      "source": [
        "# A list of images is created so a gif can be obtained\n",
        "for ye in range(2001,2020):\n",
        "  im = imageio.imread(f'gdrive/MyDrive/Colab Notebooks/img/img_{ye}.png')\n",
        "  images.append(im)"
      ],
      "metadata": {
        "id": "J2Iv_jFDi1z0"
      },
      "execution_count": 8,
      "outputs": []
    },
    {
      "cell_type": "code",
      "source": [
        "# Save gif\n",
        "imageio.mimsave('gdrive/MyDrive/Colab Notebooks/img/nuc_carb.gif', # output gif\n",
        "                images,          # array of input frames\n",
        "                fps = 1)         # optional: frames per second"
      ],
      "metadata": {
        "id": "LSJiNOWmIyon"
      },
      "execution_count": 9,
      "outputs": []
    },
    {
      "cell_type": "code",
      "source": [
        "# See pvalue for all years' regressions.\n",
        "for r,y in zip(lr,range(2001,2020)):\n",
        "  print(\"pvalue for year {}: {}\".format(y, r.pvalue))"
      ],
      "metadata": {
        "colab": {
          "base_uri": "https://localhost:8080/"
        },
        "id": "f0f_vMHJTFWu",
        "outputId": "b5b05cd3-7e54-4215-80a3-1bf277765241"
      },
      "execution_count": 11,
      "outputs": [
        {
          "output_type": "stream",
          "name": "stdout",
          "text": [
            "pvalue for year 2001: 0.0019289094057463236\n",
            "pvalue for year 2002: 0.0012286365486791288\n",
            "pvalue for year 2003: 0.0003764037412933048\n",
            "pvalue for year 2004: 0.0010559789959719906\n",
            "pvalue for year 2005: 0.004037780348932975\n",
            "pvalue for year 2006: 0.001904325533791953\n",
            "pvalue for year 2007: 0.0010826528414018992\n",
            "pvalue for year 2008: 0.002919188157621511\n",
            "pvalue for year 2009: 0.00489522950439222\n",
            "pvalue for year 2010: 0.015643179840147216\n",
            "pvalue for year 2011: 0.009442289561110633\n",
            "pvalue for year 2012: 0.00787788524989414\n",
            "pvalue for year 2013: 0.003857821020893346\n",
            "pvalue for year 2014: 0.004139034589839585\n",
            "pvalue for year 2015: 0.007557443054234676\n",
            "pvalue for year 2016: 0.006722541061182497\n",
            "pvalue for year 2017: 0.012163133049944345\n",
            "pvalue for year 2018: 0.011344948918448025\n",
            "pvalue for year 2019: 0.034465000976257196\n"
          ]
        }
      ]
    }
  ],
  "metadata": {
    "colab": {
      "provenance": []
    },
    "kernelspec": {
      "display_name": "Python 3",
      "name": "python3"
    },
    "language_info": {
      "name": "python"
    }
  },
  "nbformat": 4,
  "nbformat_minor": 0
}